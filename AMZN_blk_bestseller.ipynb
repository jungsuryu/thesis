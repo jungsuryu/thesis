{
 "cells": [
  {
   "cell_type": "code",
   "execution_count": 30,
   "metadata": {},
   "outputs": [],
   "source": [
    "import os\n",
    "import numpy as np\n",
    "import pandas as pd\n",
    "\n",
    "from sklearn.utils import shuffle\n",
    "from sklearn.model_selection import train_test_split\n",
    "\n",
    "import warnings\n",
    "warnings.filterwarnings(action = 'ignore')\n",
    "\n",
    "import pickle\n",
    "\n",
    "import matplotlib.pyplot as plt\n",
    "import seaborn as sns\n",
    "\n",
    "# 데이터 불러오기\n",
    "ratings = pd.read_csv('/home/ryu/thesis/data/amazon/Amazon_ratings.csv')\n",
    "\n",
    "cnt = ratings.groupby('user_id').count()['rating']\n",
    "keys = cnt[cnt>3].keys()\n",
    "ratings = ratings[ratings['user_id'].isin(keys)]"
   ]
  },
  {
   "cell_type": "code",
   "execution_count": 34,
   "metadata": {},
   "outputs": [
    {
     "data": {
      "text/plain": [
       "9631"
      ]
     },
     "execution_count": 34,
     "metadata": {},
     "output_type": "execute_result"
    }
   ],
   "source": [
    "ratings.user_id.nunique() - len(black)"
   ]
  },
  {
   "cell_type": "code",
   "execution_count": 3,
   "metadata": {},
   "outputs": [],
   "source": [
    "# RMSE 함수\n",
    "def RMSE(y_true, y_pred):\n",
    "    return np.sqrt(np.mean((np.array(y_true) - np.array(y_pred))**2))"
   ]
  },
  {
   "cell_type": "code",
   "execution_count": 33,
   "metadata": {},
   "outputs": [],
   "source": [
    "# black sheep 불러오기\n",
    "with open('/home/ryu/thesis/new_amazon/black_id.pkl', 'rb') as f:\n",
    "    black = pickle.load(f)"
   ]
  },
  {
   "cell_type": "code",
   "execution_count": 29,
   "metadata": {},
   "outputs": [
    {
     "name": "stdout",
     "output_type": "stream",
     "text": [
      "Bestseller RMSE: 0.7612261985444495\n",
      "Black Bestseller RMSE: 0.8566528629382743\n",
      "Bestseller RMSE: 0.7584417952083649\n",
      "Black Bestseller RMSE: 0.8529407401197725\n",
      "Bestseller RMSE: 0.7651581201251874\n",
      "Black Bestseller RMSE: 0.8550422477132075\n",
      "Bestseller RMSE: 0.7551237547513936\n",
      "Black Bestseller RMSE: 0.8520294349100557\n",
      "Bestseller RMSE: 0.7676760046804372\n",
      "Black Bestseller RMSE: 0.8637268767520256\n"
     ]
    }
   ],
   "source": [
    "state = [8, 15, 35, 42, 84]\n",
    "black_all = []\n",
    "black_only = []\n",
    "\n",
    "for s in state:\n",
    "\n",
    "    ratings = pd.read_csv('/home/ryu/thesis/data/amazon/Amazon_ratings.csv')\n",
    "\n",
    "    cnt = ratings.groupby('user_id').count()['rating']\n",
    "    keys = cnt[cnt>3].keys()\n",
    "    ratings = ratings[ratings['user_id'].isin(keys)]\n",
    "\n",
    "    # black sheep 제거한 test, train 만들기\n",
    "    x = ratings.copy()\n",
    "    y = ratings['user_id']\n",
    "    ratings_train, ratings_test = train_test_split(x, test_size=0.25, stratify=y, random_state=s)\n",
    "\n",
    "    black_train = ratings_train[ratings_train['user_id'].isin(black)]\n",
    "    black_test = ratings_test[ratings_test['user_id'].isin(black)]\n",
    "\n",
    "    ratings_train = ratings_train[~ratings_train['user_id'].isin(black)]\n",
    "    ratings_test = ratings_test[~ratings_test['user_id'].isin(black)]\n",
    "    ratings = ratings[~ratings['user_id'].isin(black)]\n",
    "\n",
    "    # 전체 bestseller\n",
    "    all_item_mean = ratings_train.groupby(['item_id'])['rating'].mean()\n",
    "\n",
    "    all_rmse = []\n",
    "    for user in set(black_test.index): # unique user_ids\n",
    "        y_true = black_test.loc[user][['item_id', 'rating']] # ratings on a particular item (해당 사용자가 평가한 영화들의 평점)\n",
    "        if black_test.loc[user]['item_id'] in all_item_mean.index:\n",
    "            y_pred = all_item_mean[black_test.loc[user]['item_id']] # 해당 사용자가 평가한 영화들 평점의 평균 (best seller 추천이므로 예측값에 해당)\n",
    "        else:\n",
    "            y_pred = all_item_mean.mean()\n",
    "        a_accuracy = RMSE(y_true['rating'], y_pred)\n",
    "        all_rmse.append(a_accuracy)\n",
    "\n",
    "    bestseller_RMSE = np.mean(all_rmse)\n",
    "\n",
    "    # 실험 결과\n",
    "    print(f'Bestseller RMSE: {bestseller_RMSE}')\n",
    "    # 결과 저장\n",
    "    black_all.append(bestseller_RMSE)\n",
    "\n",
    "    # Black Sheep ONLY bestseller\n",
    "\n",
    "\n",
    "    black_item_mean = black_train.groupby(['item_id'])['rating'].mean()\n",
    "\n",
    "    blk_rmse = []\n",
    "    for user in set(black_test.index): # unique user_ids\n",
    "        y_true = black_test.loc[user][['item_id', 'rating']] # ratings on a particular item (해당 사용자가 평가한 영화들의 평점)\n",
    "        if black_test.loc[user]['item_id'] in black_item_mean.index:\n",
    "            y_pred = black_item_mean[black_test.loc[user]['item_id']] # 해당 사용자가 평가한 영화들 평점의 평균 (best seller 추천이므로 예측값에 해당)\n",
    "        else:\n",
    "            y_pred = black_item_mean.mean()\n",
    "        b_accuracy = RMSE(y_true['rating'], y_pred)\n",
    "        blk_rmse.append(b_accuracy)\n",
    "\n",
    "    blk_bestseller_RMSE = np.mean(blk_rmse)\n",
    "\n",
    "    # 실험 결과\n",
    "    print(f'Black Bestseller RMSE: {blk_bestseller_RMSE}')\n",
    "    # 결과 저장\n",
    "    black_only.append(blk_bestseller_RMSE)"
   ]
  }
 ],
 "metadata": {
  "kernelspec": {
   "display_name": "ryuvenv",
   "language": "python",
   "name": "python3"
  },
  "language_info": {
   "codemirror_mode": {
    "name": "ipython",
    "version": 3
   },
   "file_extension": ".py",
   "mimetype": "text/x-python",
   "name": "python",
   "nbconvert_exporter": "python",
   "pygments_lexer": "ipython3",
   "version": "3.8.18"
  }
 },
 "nbformat": 4,
 "nbformat_minor": 2
}
